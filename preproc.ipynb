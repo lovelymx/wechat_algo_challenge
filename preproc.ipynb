{
 "cells": [
  {
   "cell_type": "code",
   "execution_count": 1,
   "metadata": {
    "collapsed": true
   },
   "outputs": [],
   "source": [
    "import pandas as pd"
   ]
  },
  {
   "cell_type": "code",
   "execution_count": 2,
   "outputs": [],
   "source": [
    "ROOT_PATH = '/ssd/lzhao/projects/wechat/wechat_algo_data1/'\n",
    "USER_ACTION = ROOT_PATH + 'user_action.csv'\n",
    "FEED_INFO = ROOT_PATH + 'feed_info.csv'\n",
    "FEED_EMBEDDINGS = ROOT_PATH + 'feed_embeddings.csv'"
   ],
   "metadata": {
    "collapsed": false,
    "pycharm": {
     "name": "#%%\n"
    }
   }
  },
  {
   "cell_type": "code",
   "execution_count": 3,
   "outputs": [],
   "source": [
    "feed_info_df = pd.read_csv(FEED_INFO)\n",
    "user_action_df = pd.read_csv(USER_ACTION)\n",
    "feed_embed = pd.read_csv(FEED_EMBEDDINGS)"
   ],
   "metadata": {
    "collapsed": false,
    "pycharm": {
     "name": "#%%\n"
    }
   }
  },
  {
   "cell_type": "code",
   "execution_count": 4,
   "outputs": [
    {
     "data": {
      "text/plain": "   feedid  authorid  videoplayseconds  \\\n0   43549      6165                38   \n1   77432      9386                60   \n2   12921      2996                15   \n\n                                         description  \\\n0  104741 122649 8109 117252 65632 23463 118668 4...   \n1  35753 27736 146603 73055 11794 101761 11794 81...   \n2  114413 107973 117252 27736 41035 32715 125374 ...   \n\n                                                 ocr  \\\n0  139499 59421 82007 142955 27736 83577 52394 11...   \n1  35753 146603 73055 11794 101761 67496 16933 52...   \n2                                                NaN   \n\n                                                 asr  bgm_song_id  \\\n0  142955 27736 83577 103956 32010 34170 89740 90...      19356.0   \n1  146739 14368 79290 79213 47366 8109 33194 1198...          NaN   \n2                                                NaN      10288.0   \n\n   bgm_singer_id manual_keyword_list        machine_keyword_list  \\\n0        11703.0    15506;7715;17582  26334;219;25209;7715;18541   \n1            NaN     8199;18322;4243                 24078;19924   \n2        11354.0                 NaN                  11696;6926   \n\n  manual_tag_list                                   machine_tag_list  \\\n0    81;269;159;6  269 0.8525666;81 0.8525666;8 1.1e-07;306 0.0;2...   \n1   194;267;159;6                      267 0.99293476;194 0.99293476   \n2    202;23;160;6                       23 0.64771646;202 0.64771646   \n\n                                    description_char  \\\n0  26439 5247 6426 3827 1882 26018 20744 22204 30...   \n1  31010 32495 6243 13923 15360 30483 2709 26084 ...   \n2  27077 10050 27464 20072 26018 6243 21492 14750...   \n\n                                            ocr_char  \\\n0  25926 8491 13394 2203 26439 6243 33054 16435 1...   \n1  31010 32495 13923 15360 30483 2709 26084 15160...   \n2                                                NaN   \n\n                                            asr_char  \n0  2203 26439 6243 33054 16435 16307 17070 24908 ...  \n1  7259 20851 5061 26207 17573 17531 15117 20072 ...  \n2                                                NaN  ",
      "text/html": "<div>\n<style scoped>\n    .dataframe tbody tr th:only-of-type {\n        vertical-align: middle;\n    }\n\n    .dataframe tbody tr th {\n        vertical-align: top;\n    }\n\n    .dataframe thead th {\n        text-align: right;\n    }\n</style>\n<table border=\"1\" class=\"dataframe\">\n  <thead>\n    <tr style=\"text-align: right;\">\n      <th></th>\n      <th>feedid</th>\n      <th>authorid</th>\n      <th>videoplayseconds</th>\n      <th>description</th>\n      <th>ocr</th>\n      <th>asr</th>\n      <th>bgm_song_id</th>\n      <th>bgm_singer_id</th>\n      <th>manual_keyword_list</th>\n      <th>machine_keyword_list</th>\n      <th>manual_tag_list</th>\n      <th>machine_tag_list</th>\n      <th>description_char</th>\n      <th>ocr_char</th>\n      <th>asr_char</th>\n    </tr>\n  </thead>\n  <tbody>\n    <tr>\n      <th>0</th>\n      <td>43549</td>\n      <td>6165</td>\n      <td>38</td>\n      <td>104741 122649 8109 117252 65632 23463 118668 4...</td>\n      <td>139499 59421 82007 142955 27736 83577 52394 11...</td>\n      <td>142955 27736 83577 103956 32010 34170 89740 90...</td>\n      <td>19356.0</td>\n      <td>11703.0</td>\n      <td>15506;7715;17582</td>\n      <td>26334;219;25209;7715;18541</td>\n      <td>81;269;159;6</td>\n      <td>269 0.8525666;81 0.8525666;8 1.1e-07;306 0.0;2...</td>\n      <td>26439 5247 6426 3827 1882 26018 20744 22204 30...</td>\n      <td>25926 8491 13394 2203 26439 6243 33054 16435 1...</td>\n      <td>2203 26439 6243 33054 16435 16307 17070 24908 ...</td>\n    </tr>\n    <tr>\n      <th>1</th>\n      <td>77432</td>\n      <td>9386</td>\n      <td>60</td>\n      <td>35753 27736 146603 73055 11794 101761 11794 81...</td>\n      <td>35753 146603 73055 11794 101761 67496 16933 52...</td>\n      <td>146739 14368 79290 79213 47366 8109 33194 1198...</td>\n      <td>NaN</td>\n      <td>NaN</td>\n      <td>8199;18322;4243</td>\n      <td>24078;19924</td>\n      <td>194;267;159;6</td>\n      <td>267 0.99293476;194 0.99293476</td>\n      <td>31010 32495 6243 13923 15360 30483 2709 26084 ...</td>\n      <td>31010 32495 13923 15360 30483 2709 26084 15160...</td>\n      <td>7259 20851 5061 26207 17573 17531 15117 20072 ...</td>\n    </tr>\n    <tr>\n      <th>2</th>\n      <td>12921</td>\n      <td>2996</td>\n      <td>15</td>\n      <td>114413 107973 117252 27736 41035 32715 125374 ...</td>\n      <td>NaN</td>\n      <td>NaN</td>\n      <td>10288.0</td>\n      <td>11354.0</td>\n      <td>NaN</td>\n      <td>11696;6926</td>\n      <td>202;23;160;6</td>\n      <td>23 0.64771646;202 0.64771646</td>\n      <td>27077 10050 27464 20072 26018 6243 21492 14750...</td>\n      <td>NaN</td>\n      <td>NaN</td>\n    </tr>\n  </tbody>\n</table>\n</div>"
     },
     "execution_count": 4,
     "metadata": {},
     "output_type": "execute_result"
    }
   ],
   "source": [
    "feed_info_df.head(3)"
   ],
   "metadata": {
    "collapsed": false,
    "pycharm": {
     "name": "#%%\n"
    }
   }
  },
  {
   "cell_type": "code",
   "execution_count": 5,
   "outputs": [
    {
     "data": {
      "text/plain": "   userid  feedid  date_  device  read_comment  comment  like  play  stay  \\\n0       8   71474      1       1             0        0     1   500  5366   \n1       8   73916      1       1             0        0     0   250  1533   \n2       8   50282      1       1             0        0     0   750  1302   \n3       8   11391      1       1             0        0     1  3750  5191   \n4       8   27349      1       1             0        0     0   250   800   \n\n   click_avatar  forward  follow  favorite  \n0             0        0       0         0  \n1             0        0       0         0  \n2             0        0       0         0  \n3             0        0       0         0  \n4             0        0       0         0  ",
      "text/html": "<div>\n<style scoped>\n    .dataframe tbody tr th:only-of-type {\n        vertical-align: middle;\n    }\n\n    .dataframe tbody tr th {\n        vertical-align: top;\n    }\n\n    .dataframe thead th {\n        text-align: right;\n    }\n</style>\n<table border=\"1\" class=\"dataframe\">\n  <thead>\n    <tr style=\"text-align: right;\">\n      <th></th>\n      <th>userid</th>\n      <th>feedid</th>\n      <th>date_</th>\n      <th>device</th>\n      <th>read_comment</th>\n      <th>comment</th>\n      <th>like</th>\n      <th>play</th>\n      <th>stay</th>\n      <th>click_avatar</th>\n      <th>forward</th>\n      <th>follow</th>\n      <th>favorite</th>\n    </tr>\n  </thead>\n  <tbody>\n    <tr>\n      <th>0</th>\n      <td>8</td>\n      <td>71474</td>\n      <td>1</td>\n      <td>1</td>\n      <td>0</td>\n      <td>0</td>\n      <td>1</td>\n      <td>500</td>\n      <td>5366</td>\n      <td>0</td>\n      <td>0</td>\n      <td>0</td>\n      <td>0</td>\n    </tr>\n    <tr>\n      <th>1</th>\n      <td>8</td>\n      <td>73916</td>\n      <td>1</td>\n      <td>1</td>\n      <td>0</td>\n      <td>0</td>\n      <td>0</td>\n      <td>250</td>\n      <td>1533</td>\n      <td>0</td>\n      <td>0</td>\n      <td>0</td>\n      <td>0</td>\n    </tr>\n    <tr>\n      <th>2</th>\n      <td>8</td>\n      <td>50282</td>\n      <td>1</td>\n      <td>1</td>\n      <td>0</td>\n      <td>0</td>\n      <td>0</td>\n      <td>750</td>\n      <td>1302</td>\n      <td>0</td>\n      <td>0</td>\n      <td>0</td>\n      <td>0</td>\n    </tr>\n    <tr>\n      <th>3</th>\n      <td>8</td>\n      <td>11391</td>\n      <td>1</td>\n      <td>1</td>\n      <td>0</td>\n      <td>0</td>\n      <td>1</td>\n      <td>3750</td>\n      <td>5191</td>\n      <td>0</td>\n      <td>0</td>\n      <td>0</td>\n      <td>0</td>\n    </tr>\n    <tr>\n      <th>4</th>\n      <td>8</td>\n      <td>27349</td>\n      <td>1</td>\n      <td>1</td>\n      <td>0</td>\n      <td>0</td>\n      <td>0</td>\n      <td>250</td>\n      <td>800</td>\n      <td>0</td>\n      <td>0</td>\n      <td>0</td>\n      <td>0</td>\n    </tr>\n  </tbody>\n</table>\n</div>"
     },
     "execution_count": 5,
     "metadata": {},
     "output_type": "execute_result"
    }
   ],
   "source": [
    "user_action_df.head(5)"
   ],
   "metadata": {
    "collapsed": false,
    "pycharm": {
     "name": "#%%\n"
    }
   }
  },
  {
   "cell_type": "code",
   "execution_count": 6,
   "outputs": [],
   "source": [
    "FEA_FEED_LIST = ['feedid', 'authorid', 'videoplayseconds', 'bgm_song_id', 'bgm_singer_id']\n",
    "train = pd.merge(user_action_df, feed_info_df[FEA_FEED_LIST], on='feedid', how='left')\n"
   ],
   "metadata": {
    "collapsed": false,
    "pycharm": {
     "name": "#%%\n"
    }
   }
  },
  {
   "cell_type": "code",
   "execution_count": 7,
   "outputs": [
    {
     "data": {
      "text/plain": "   userid  feedid  date_  device  read_comment  comment  like  play  stay  \\\n0       8   71474      1       1             0        0     1   500  5366   \n1       8   73916      1       1             0        0     0   250  1533   \n2       8   50282      1       1             0        0     0   750  1302   \n3       8   11391      1       1             0        0     1  3750  5191   \n4       8   27349      1       1             0        0     0   250   800   \n\n   click_avatar  forward  follow  favorite  authorid  videoplayseconds  \\\n0             0        0       0         0      1528                11   \n1             0        0       0         0      1442                16   \n2             0        0       0         0      8648                31   \n3             0        0       0         0     11976                 6   \n4             0        0       0         0      4370                12   \n\n   bgm_song_id  bgm_singer_id  \n0      13745.0         3556.0  \n1          NaN            NaN  \n2          NaN            NaN  \n3      13096.0         5012.0  \n4      22215.0         7899.0  ",
      "text/html": "<div>\n<style scoped>\n    .dataframe tbody tr th:only-of-type {\n        vertical-align: middle;\n    }\n\n    .dataframe tbody tr th {\n        vertical-align: top;\n    }\n\n    .dataframe thead th {\n        text-align: right;\n    }\n</style>\n<table border=\"1\" class=\"dataframe\">\n  <thead>\n    <tr style=\"text-align: right;\">\n      <th></th>\n      <th>userid</th>\n      <th>feedid</th>\n      <th>date_</th>\n      <th>device</th>\n      <th>read_comment</th>\n      <th>comment</th>\n      <th>like</th>\n      <th>play</th>\n      <th>stay</th>\n      <th>click_avatar</th>\n      <th>forward</th>\n      <th>follow</th>\n      <th>favorite</th>\n      <th>authorid</th>\n      <th>videoplayseconds</th>\n      <th>bgm_song_id</th>\n      <th>bgm_singer_id</th>\n    </tr>\n  </thead>\n  <tbody>\n    <tr>\n      <th>0</th>\n      <td>8</td>\n      <td>71474</td>\n      <td>1</td>\n      <td>1</td>\n      <td>0</td>\n      <td>0</td>\n      <td>1</td>\n      <td>500</td>\n      <td>5366</td>\n      <td>0</td>\n      <td>0</td>\n      <td>0</td>\n      <td>0</td>\n      <td>1528</td>\n      <td>11</td>\n      <td>13745.0</td>\n      <td>3556.0</td>\n    </tr>\n    <tr>\n      <th>1</th>\n      <td>8</td>\n      <td>73916</td>\n      <td>1</td>\n      <td>1</td>\n      <td>0</td>\n      <td>0</td>\n      <td>0</td>\n      <td>250</td>\n      <td>1533</td>\n      <td>0</td>\n      <td>0</td>\n      <td>0</td>\n      <td>0</td>\n      <td>1442</td>\n      <td>16</td>\n      <td>NaN</td>\n      <td>NaN</td>\n    </tr>\n    <tr>\n      <th>2</th>\n      <td>8</td>\n      <td>50282</td>\n      <td>1</td>\n      <td>1</td>\n      <td>0</td>\n      <td>0</td>\n      <td>0</td>\n      <td>750</td>\n      <td>1302</td>\n      <td>0</td>\n      <td>0</td>\n      <td>0</td>\n      <td>0</td>\n      <td>8648</td>\n      <td>31</td>\n      <td>NaN</td>\n      <td>NaN</td>\n    </tr>\n    <tr>\n      <th>3</th>\n      <td>8</td>\n      <td>11391</td>\n      <td>1</td>\n      <td>1</td>\n      <td>0</td>\n      <td>0</td>\n      <td>1</td>\n      <td>3750</td>\n      <td>5191</td>\n      <td>0</td>\n      <td>0</td>\n      <td>0</td>\n      <td>0</td>\n      <td>11976</td>\n      <td>6</td>\n      <td>13096.0</td>\n      <td>5012.0</td>\n    </tr>\n    <tr>\n      <th>4</th>\n      <td>8</td>\n      <td>27349</td>\n      <td>1</td>\n      <td>1</td>\n      <td>0</td>\n      <td>0</td>\n      <td>0</td>\n      <td>250</td>\n      <td>800</td>\n      <td>0</td>\n      <td>0</td>\n      <td>0</td>\n      <td>0</td>\n      <td>4370</td>\n      <td>12</td>\n      <td>22215.0</td>\n      <td>7899.0</td>\n    </tr>\n  </tbody>\n</table>\n</div>"
     },
     "execution_count": 7,
     "metadata": {},
     "output_type": "execute_result"
    }
   ],
   "source": [
    "train.head(5)"
   ],
   "metadata": {
    "collapsed": false,
    "pycharm": {
     "name": "#%%\n"
    }
   }
  },
  {
   "cell_type": "code",
   "execution_count": 8,
   "outputs": [],
   "source": [
    "tmp = train.drop_duplicates(['userid', 'feedid', 'click_avatar'], keep='last')"
   ],
   "metadata": {
    "collapsed": false,
    "pycharm": {
     "name": "#%%\n"
    }
   }
  },
  {
   "cell_type": "code",
   "execution_count": 9,
   "outputs": [
    {
     "data": {
      "text/plain": "   userid  feedid  date_  device  read_comment  comment  like  play  stay  \\\n0       8   71474      1       1             0        0     1   500  5366   \n1       8   73916      1       1             0        0     0   250  1533   \n2       8   50282      1       1             0        0     0   750  1302   \n3       8   11391      1       1             0        0     1  3750  5191   \n4       8   27349      1       1             0        0     0   250   800   \n\n   click_avatar  forward  follow  favorite  authorid  videoplayseconds  \\\n0             0        0       0         0      1528                11   \n1             0        0       0         0      1442                16   \n2             0        0       0         0      8648                31   \n3             0        0       0         0     11976                 6   \n4             0        0       0         0      4370                12   \n\n   bgm_song_id  bgm_singer_id  \n0      13745.0         3556.0  \n1          NaN            NaN  \n2          NaN            NaN  \n3      13096.0         5012.0  \n4      22215.0         7899.0  ",
      "text/html": "<div>\n<style scoped>\n    .dataframe tbody tr th:only-of-type {\n        vertical-align: middle;\n    }\n\n    .dataframe tbody tr th {\n        vertical-align: top;\n    }\n\n    .dataframe thead th {\n        text-align: right;\n    }\n</style>\n<table border=\"1\" class=\"dataframe\">\n  <thead>\n    <tr style=\"text-align: right;\">\n      <th></th>\n      <th>userid</th>\n      <th>feedid</th>\n      <th>date_</th>\n      <th>device</th>\n      <th>read_comment</th>\n      <th>comment</th>\n      <th>like</th>\n      <th>play</th>\n      <th>stay</th>\n      <th>click_avatar</th>\n      <th>forward</th>\n      <th>follow</th>\n      <th>favorite</th>\n      <th>authorid</th>\n      <th>videoplayseconds</th>\n      <th>bgm_song_id</th>\n      <th>bgm_singer_id</th>\n    </tr>\n  </thead>\n  <tbody>\n    <tr>\n      <th>0</th>\n      <td>8</td>\n      <td>71474</td>\n      <td>1</td>\n      <td>1</td>\n      <td>0</td>\n      <td>0</td>\n      <td>1</td>\n      <td>500</td>\n      <td>5366</td>\n      <td>0</td>\n      <td>0</td>\n      <td>0</td>\n      <td>0</td>\n      <td>1528</td>\n      <td>11</td>\n      <td>13745.0</td>\n      <td>3556.0</td>\n    </tr>\n    <tr>\n      <th>1</th>\n      <td>8</td>\n      <td>73916</td>\n      <td>1</td>\n      <td>1</td>\n      <td>0</td>\n      <td>0</td>\n      <td>0</td>\n      <td>250</td>\n      <td>1533</td>\n      <td>0</td>\n      <td>0</td>\n      <td>0</td>\n      <td>0</td>\n      <td>1442</td>\n      <td>16</td>\n      <td>NaN</td>\n      <td>NaN</td>\n    </tr>\n    <tr>\n      <th>2</th>\n      <td>8</td>\n      <td>50282</td>\n      <td>1</td>\n      <td>1</td>\n      <td>0</td>\n      <td>0</td>\n      <td>0</td>\n      <td>750</td>\n      <td>1302</td>\n      <td>0</td>\n      <td>0</td>\n      <td>0</td>\n      <td>0</td>\n      <td>8648</td>\n      <td>31</td>\n      <td>NaN</td>\n      <td>NaN</td>\n    </tr>\n    <tr>\n      <th>3</th>\n      <td>8</td>\n      <td>11391</td>\n      <td>1</td>\n      <td>1</td>\n      <td>0</td>\n      <td>0</td>\n      <td>1</td>\n      <td>3750</td>\n      <td>5191</td>\n      <td>0</td>\n      <td>0</td>\n      <td>0</td>\n      <td>0</td>\n      <td>11976</td>\n      <td>6</td>\n      <td>13096.0</td>\n      <td>5012.0</td>\n    </tr>\n    <tr>\n      <th>4</th>\n      <td>8</td>\n      <td>27349</td>\n      <td>1</td>\n      <td>1</td>\n      <td>0</td>\n      <td>0</td>\n      <td>0</td>\n      <td>250</td>\n      <td>800</td>\n      <td>0</td>\n      <td>0</td>\n      <td>0</td>\n      <td>0</td>\n      <td>4370</td>\n      <td>12</td>\n      <td>22215.0</td>\n      <td>7899.0</td>\n    </tr>\n  </tbody>\n</table>\n</div>"
     },
     "execution_count": 9,
     "metadata": {},
     "output_type": "execute_result"
    }
   ],
   "source": [
    "tmp.head(5)"
   ],
   "metadata": {
    "collapsed": false,
    "pycharm": {
     "name": "#%%\n"
    }
   }
  },
  {
   "cell_type": "code",
   "execution_count": null,
   "outputs": [],
   "source": [],
   "metadata": {
    "collapsed": false,
    "pycharm": {
     "name": "#%%\n"
    }
   }
  }
 ],
 "metadata": {
  "kernelspec": {
   "display_name": "Python 3",
   "language": "python",
   "name": "python3"
  },
  "language_info": {
   "codemirror_mode": {
    "name": "ipython",
    "version": 2
   },
   "file_extension": ".py",
   "mimetype": "text/x-python",
   "name": "python",
   "nbconvert_exporter": "python",
   "pygments_lexer": "ipython2",
   "version": "2.7.6"
  }
 },
 "nbformat": 4,
 "nbformat_minor": 0
}